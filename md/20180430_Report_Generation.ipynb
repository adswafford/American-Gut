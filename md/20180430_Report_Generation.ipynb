{
 "cells": [
  {
   "cell_type": "code",
   "execution_count": 1,
   "metadata": {},
   "outputs": [],
   "source": [
    "#this will replace the example participant with the imported information\n",
    "#assumes that the links have been organized into a tsv with the columns:\n",
    "#participant_id,biom_qzv,emperor_qzv,host_directory"
   ]
  },
  {
   "cell_type": "code",
   "execution_count": 2,
   "metadata": {},
   "outputs": [],
   "source": [
    "import pandas as pd\n",
    "import fileinput\n",
    "import pathlib"
   ]
  },
  {
   "cell_type": "code",
   "execution_count": 3,
   "metadata": {},
   "outputs": [],
   "source": [
    "links_df = pd.read_csv('20180420_BB_report_links.txt',header=0, sep ='\\t', decimal = ',')\n",
    "\n",
    "#cast all columns to lower for easier reference\n",
    "links_df.columns = links_df.columns.str.lower()\n",
    "\n",
    "#set participant_id as the index\n",
    "links_df.set_index('participant_id', inplace=True)"
   ]
  },
  {
   "cell_type": "code",
   "execution_count": 4,
   "metadata": {},
   "outputs": [
    {
     "data": {
      "text/plain": [
       "'https://htmlpreview.github.io/?https://github.com/adswafford/American-Gut/blob/master/md/BeyondBacteria_Report_000017160.html'"
      ]
     },
     "execution_count": 4,
     "metadata": {},
     "output_type": "execute_result"
    }
   ],
   "source": [
    "links_df.at['10317.000017160','report link']"
   ]
  },
  {
   "cell_type": "code",
   "execution_count": 5,
   "metadata": {},
   "outputs": [],
   "source": [
    "host_dir = 'https://raw.githubusercontent.com/adswafford/American-Gut/master/md' #replace this with the path to the individual_reports folder lives\n",
    "biom_dropbox_link = 'https://www.dropbox.com/s/tbdfr98acyjbzz1/10317.example_participant_species_kraken_perc_individual.qzv?dl=0' #replace this is with the link to the kraken biom summary qzv\n",
    "unifrac_dropbox_link = 'https://www.dropbox.com/s/43q5gg0wwz1u33b/10317.example_participant_unweighted_unifrac_emperor_plot.qzv?dl=0' #replace this is with the link to the UniFrac Emperor qzv on dropbox\n",
    "participant_id = '10317.example_participant'"
   ]
  },
  {
   "cell_type": "code",
   "execution_count": 6,
   "metadata": {},
   "outputs": [
    {
     "name": "stdout",
     "output_type": "stream",
     "text": [
      "[NbConvertApp] Converting notebook ./individual_reports/10317.000017160/BeyondBacteria_Report_10317.000017160.ipynb to notebook\n",
      "[NbConvertApp] Executing notebook with kernel: python3\n",
      "[NbConvertApp] Writing 1093409 bytes to ./individual_reports/10317.000017160/BeyondBacteria_Report_10317.000017160.ipynb\n",
      "[NbConvertApp] Converting notebook ./individual_reports/10317.000017160/BeyondBacteria_Report_10317.000017160.ipynb to html\n",
      "[NbConvertApp] Writing 1173391 bytes to ./individual_reports/10317.000017160/BeyondBacteria_Report_10317.000017160.html\n",
      "[NbConvertApp] Converting notebook ./individual_reports/10317.000026085/BeyondBacteria_Report_10317.000026085.ipynb to notebook\n",
      "[NbConvertApp] Executing notebook with kernel: python3\n",
      "[NbConvertApp] Writing 1117296 bytes to ./individual_reports/10317.000026085/BeyondBacteria_Report_10317.000026085.ipynb\n",
      "[NbConvertApp] Converting notebook ./individual_reports/10317.000026085/BeyondBacteria_Report_10317.000026085.ipynb to html\n",
      "[NbConvertApp] Writing 1193016 bytes to ./individual_reports/10317.000026085/BeyondBacteria_Report_10317.000026085.html\n",
      "[NbConvertApp] Converting notebook ./individual_reports/10317.000035368/BeyondBacteria_Report_10317.000035368.ipynb to notebook\n",
      "[NbConvertApp] Executing notebook with kernel: python3\n",
      "[NbConvertApp] Writing 1092091 bytes to ./individual_reports/10317.000035368/BeyondBacteria_Report_10317.000035368.ipynb\n",
      "[NbConvertApp] Converting notebook ./individual_reports/10317.000035368/BeyondBacteria_Report_10317.000035368.ipynb to html\n",
      "[NbConvertApp] Writing 1173471 bytes to ./individual_reports/10317.000035368/BeyondBacteria_Report_10317.000035368.html\n",
      "[NbConvertApp] Converting notebook ./individual_reports/10317.000036855/BeyondBacteria_Report_10317.000036855.ipynb to notebook\n",
      "[NbConvertApp] Executing notebook with kernel: python3\n",
      "[NbConvertApp] Writing 1114842 bytes to ./individual_reports/10317.000036855/BeyondBacteria_Report_10317.000036855.ipynb\n",
      "[NbConvertApp] Converting notebook ./individual_reports/10317.000036855/BeyondBacteria_Report_10317.000036855.ipynb to html\n",
      "[NbConvertApp] Writing 1190708 bytes to ./individual_reports/10317.000036855/BeyondBacteria_Report_10317.000036855.html\n",
      "[NbConvertApp] Converting notebook ./individual_reports/10317.000038365/BeyondBacteria_Report_10317.000038365.ipynb to notebook\n",
      "[NbConvertApp] Executing notebook with kernel: python3\n",
      "[NbConvertApp] Writing 1137198 bytes to ./individual_reports/10317.000038365/BeyondBacteria_Report_10317.000038365.ipynb\n",
      "[NbConvertApp] Converting notebook ./individual_reports/10317.000038365/BeyondBacteria_Report_10317.000038365.ipynb to html\n",
      "[NbConvertApp] Writing 1208122 bytes to ./individual_reports/10317.000038365/BeyondBacteria_Report_10317.000038365.html\n",
      "[NbConvertApp] Converting notebook ./individual_reports/10317.000038366/BeyondBacteria_Report_10317.000038366.ipynb to notebook\n",
      "[NbConvertApp] Executing notebook with kernel: python3\n",
      "[NbConvertApp] Writing 1132517 bytes to ./individual_reports/10317.000038366/BeyondBacteria_Report_10317.000038366.ipynb\n",
      "[NbConvertApp] Converting notebook ./individual_reports/10317.000038366/BeyondBacteria_Report_10317.000038366.ipynb to html\n",
      "[NbConvertApp] Writing 1204233 bytes to ./individual_reports/10317.000038366/BeyondBacteria_Report_10317.000038366.html\n",
      "[NbConvertApp] Converting notebook ./individual_reports/10317.000038367/BeyondBacteria_Report_10317.000038367.ipynb to notebook\n",
      "[NbConvertApp] Executing notebook with kernel: python3\n",
      "[NbConvertApp] Writing 1124059 bytes to ./individual_reports/10317.000038367/BeyondBacteria_Report_10317.000038367.ipynb\n",
      "[NbConvertApp] Converting notebook ./individual_reports/10317.000038367/BeyondBacteria_Report_10317.000038367.ipynb to html\n",
      "[NbConvertApp] Writing 1197739 bytes to ./individual_reports/10317.000038367/BeyondBacteria_Report_10317.000038367.html\n",
      "[NbConvertApp] Converting notebook ./individual_reports/10317.000038368/BeyondBacteria_Report_10317.000038368.ipynb to notebook\n",
      "[NbConvertApp] Executing notebook with kernel: python3\n",
      "[NbConvertApp] Writing 1130847 bytes to ./individual_reports/10317.000038368/BeyondBacteria_Report_10317.000038368.ipynb\n",
      "[NbConvertApp] Converting notebook ./individual_reports/10317.000038368/BeyondBacteria_Report_10317.000038368.ipynb to html\n",
      "[NbConvertApp] Writing 1203489 bytes to ./individual_reports/10317.000038368/BeyondBacteria_Report_10317.000038368.html\n",
      "[NbConvertApp] Converting notebook ./individual_reports/10317.000044825/BeyondBacteria_Report_10317.000044825.ipynb to notebook\n",
      "[NbConvertApp] Executing notebook with kernel: python3\n",
      "[NbConvertApp] Writing 1121167 bytes to ./individual_reports/10317.000044825/BeyondBacteria_Report_10317.000044825.ipynb\n",
      "[NbConvertApp] Converting notebook ./individual_reports/10317.000044825/BeyondBacteria_Report_10317.000044825.ipynb to html\n",
      "[NbConvertApp] Writing 1195753 bytes to ./individual_reports/10317.000044825/BeyondBacteria_Report_10317.000044825.html\n",
      "[NbConvertApp] Converting notebook ./individual_reports/10317.000052795/BeyondBacteria_Report_10317.000052795.ipynb to notebook\n",
      "[NbConvertApp] Executing notebook with kernel: python3\n",
      "[NbConvertApp] Writing 1113296 bytes to ./individual_reports/10317.000052795/BeyondBacteria_Report_10317.000052795.ipynb\n",
      "[NbConvertApp] Converting notebook ./individual_reports/10317.000052795/BeyondBacteria_Report_10317.000052795.ipynb to html\n",
      "[NbConvertApp] Writing 1189394 bytes to ./individual_reports/10317.000052795/BeyondBacteria_Report_10317.000052795.html\n",
      "[NbConvertApp] Converting notebook ./individual_reports/10317.000071892/BeyondBacteria_Report_10317.000071892.ipynb to notebook\n",
      "[NbConvertApp] Executing notebook with kernel: python3\n",
      "[NbConvertApp] Writing 1124611 bytes to ./individual_reports/10317.000071892/BeyondBacteria_Report_10317.000071892.ipynb\n",
      "[NbConvertApp] Converting notebook ./individual_reports/10317.000071892/BeyondBacteria_Report_10317.000071892.ipynb to html\n",
      "[NbConvertApp] Writing 1198925 bytes to ./individual_reports/10317.000071892/BeyondBacteria_Report_10317.000071892.html\n",
      "[NbConvertApp] Converting notebook ./individual_reports/10317.000071893/BeyondBacteria_Report_10317.000071893.ipynb to notebook\n",
      "[NbConvertApp] Executing notebook with kernel: python3\n",
      "[NbConvertApp] Writing 1124435 bytes to ./individual_reports/10317.000071893/BeyondBacteria_Report_10317.000071893.ipynb\n",
      "[NbConvertApp] Converting notebook ./individual_reports/10317.000071893/BeyondBacteria_Report_10317.000071893.ipynb to html\n",
      "[NbConvertApp] Writing 1198289 bytes to ./individual_reports/10317.000071893/BeyondBacteria_Report_10317.000071893.html\n",
      "[NbConvertApp] Converting notebook ./individual_reports/10317.000072120/BeyondBacteria_Report_10317.000072120.ipynb to notebook\n",
      "[NbConvertApp] Executing notebook with kernel: python3\n",
      "[NbConvertApp] Writing 1117059 bytes to ./individual_reports/10317.000072120/BeyondBacteria_Report_10317.000072120.ipynb\n",
      "[NbConvertApp] Converting notebook ./individual_reports/10317.000072120/BeyondBacteria_Report_10317.000072120.ipynb to html\n",
      "[NbConvertApp] Writing 1192251 bytes to ./individual_reports/10317.000072120/BeyondBacteria_Report_10317.000072120.html\n",
      "[NbConvertApp] Converting notebook ./individual_reports/10317.000076178/BeyondBacteria_Report_10317.000076178.ipynb to notebook\n",
      "[NbConvertApp] Executing notebook with kernel: python3\n",
      "[NbConvertApp] Writing 1099286 bytes to ./individual_reports/10317.000076178/BeyondBacteria_Report_10317.000076178.ipynb\n",
      "[NbConvertApp] Converting notebook ./individual_reports/10317.000076178/BeyondBacteria_Report_10317.000076178.ipynb to html\n",
      "[NbConvertApp] Writing 1177774 bytes to ./individual_reports/10317.000076178/BeyondBacteria_Report_10317.000076178.html\n",
      "[NbConvertApp] Converting notebook ./individual_reports/10317.000079062/BeyondBacteria_Report_10317.000079062.ipynb to notebook\n",
      "[NbConvertApp] Executing notebook with kernel: python3\n",
      "[NbConvertApp] Writing 1120900 bytes to ./individual_reports/10317.000079062/BeyondBacteria_Report_10317.000079062.ipynb\n",
      "[NbConvertApp] Converting notebook ./individual_reports/10317.000079062/BeyondBacteria_Report_10317.000079062.ipynb to html\n",
      "[NbConvertApp] Writing 1196022 bytes to ./individual_reports/10317.000079062/BeyondBacteria_Report_10317.000079062.html\n"
     ]
    },
    {
     "name": "stdout",
     "output_type": "stream",
     "text": [
      "[NbConvertApp] Converting notebook ./individual_reports/10317.000079163/BeyondBacteria_Report_10317.000079163.ipynb to notebook\n",
      "[NbConvertApp] Executing notebook with kernel: python3\n",
      "[NbConvertApp] Writing 1124321 bytes to ./individual_reports/10317.000079163/BeyondBacteria_Report_10317.000079163.ipynb\n",
      "[NbConvertApp] Converting notebook ./individual_reports/10317.000079163/BeyondBacteria_Report_10317.000079163.ipynb to html\n",
      "[NbConvertApp] Writing 1198819 bytes to ./individual_reports/10317.000079163/BeyondBacteria_Report_10317.000079163.html\n",
      "[NbConvertApp] Converting notebook ./individual_reports/10317.000079461/BeyondBacteria_Report_10317.000079461.ipynb to notebook\n",
      "[NbConvertApp] Executing notebook with kernel: python3\n",
      "[NbConvertApp] Writing 1114589 bytes to ./individual_reports/10317.000079461/BeyondBacteria_Report_10317.000079461.ipynb\n",
      "[NbConvertApp] Converting notebook ./individual_reports/10317.000079461/BeyondBacteria_Report_10317.000079461.ipynb to html\n",
      "[NbConvertApp] Writing 1190031 bytes to ./individual_reports/10317.000079461/BeyondBacteria_Report_10317.000079461.html\n"
     ]
    }
   ],
   "source": [
    "f = open('20180430_Text_for_BB_Report.ipynb','r')\n",
    "filedata=f.read()\n",
    "f.close()\n",
    "\n",
    "for participant in links_df.index:\n",
    "    #make sure the directory is there and write to is\n",
    "    participant_path ='./individual_reports/'+participant\n",
    "    pathlib.Path(participant_path).mkdir(parents=True, exist_ok=True)    \n",
    "    newdata = filedata.replace(biom_dropbox_link,links_df.at[participant,'biom_qzv'])\n",
    "    newdata = newdata.replace(unifrac_dropbox_link,links_df.at[participant,'emperor_qzv'])\n",
    "    newdata = newdata.replace(host_dir,links_df.at[participant,'host_directory'])\n",
    "    newdata = newdata.replace(participant_id,participant) #this needs to be last to prevent messing up above\n",
    "    newdata = newdata.replace('>Code</a>','></a>')#masks the link I use to collapse and reveal the text\n",
    "    new_nb = participant_path+'/BeyondBacteria_Report_'+participant+'.ipynb'\n",
    "    g = open(new_nb,'w')\n",
    "    g.write(newdata)\n",
    "    g.close()\n",
    "    !jupyter nbconvert --to notebook --execute --inplace $new_nb\n",
    "    !jupyter-nbconvert --to html $new_nb\n"
   ]
  },
  {
   "cell_type": "code",
   "execution_count": null,
   "metadata": {},
   "outputs": [],
   "source": []
  }
 ],
 "metadata": {
  "kernelspec": {
   "display_name": "Python 3",
   "language": "python",
   "name": "python3"
  },
  "language_info": {
   "codemirror_mode": {
    "name": "ipython",
    "version": 3
   },
   "file_extension": ".py",
   "mimetype": "text/x-python",
   "name": "python",
   "nbconvert_exporter": "python",
   "pygments_lexer": "ipython3",
   "version": "3.5.5"
  }
 },
 "nbformat": 4,
 "nbformat_minor": 2
}
