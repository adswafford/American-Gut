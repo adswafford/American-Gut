{
 "cells": [
  {
   "cell_type": "code",
   "execution_count": null,
   "metadata": {},
   "outputs": [],
   "source": [
    "#Modify this template and then save as html to create the .html template"
   ]
  },
  {
   "cell_type": "code",
   "execution_count": null,
   "metadata": {},
   "outputs": [],
   "source": [
    "import IPython\n",
    "#this snippet insert a link to toggle the code visibility\n",
    "from IPython.display import HTML\n",
    "from IPython.display import Markdown as md\n",
    "from IPython.display import SVG"
   ]
  },
  {
   "cell_type": "code",
   "execution_count": null,
   "metadata": {},
   "outputs": [],
   "source": [
    "host_dir = 'https://raw.githubusercontent.com/adswafford/American-Gut/master/md' #replace this with the path to the individual_reports folder lives\n",
    "participant_id = '10317.example_participant'\n",
    "biom_dropbox_link = 'https://www.dropbox.com/s/tbdfr98acyjbzz1/10317.example_participant_species_kraken_perc_individual.qzv?dl=0' #replace this is with the link to the kraken biom summary qzv\n",
    "unifrac_dropbox_link = 'https://www.dropbox.com/s/43q5gg0wwz1u33b/10317.example_participant_unweighted_unifrac_emperor_plot.qzv?dl=0' #replace this is with the link to the UniFrac Emperor qzv on dropbox"
   ]
  },
  {
   "cell_type": "code",
   "execution_count": null,
   "metadata": {},
   "outputs": [],
   "source": [
    "display(HTML(\"<style>.container { width:80% !important; align-items: center !important; justify-content: center;}</style>\"))\n",
    "display(HTML(\"\"\"\n",
    "<script>\n",
    "    var code_show=true; //true -> hide code at first\n",
    "\n",
    "    function code_toggle() {\n",
    "        $('div.prompt').hide(); // always hide prompt\n",
    "\n",
    "        if (code_show){\n",
    "            $('div.input').hide();\n",
    "        } else {\n",
    "            $('div.input').show();\n",
    "        }\n",
    "        code_show = !code_show\n",
    "    }\n",
    "    $( document ).ready(code_toggle);\n",
    "</script>\n",
    "<a href=\"javascript:code_toggle()\" style=\"color:white\">Code</a>\n",
    "\"\"\"))\n",
    "display(HTML(\"\"\"\n",
    "<style>\n",
    "    SVG.output {width: 100%; align-items: center;justify-content: center;}\n",
    "    </style>\n",
    "\"\"\"))"
   ]
  },
  {
   "cell_type": "code",
   "execution_count": null,
   "metadata": {},
   "outputs": [],
   "source": [
    "replace_dict = {':':'%3A','/':'%2F','?':'%3F','=':'%3D1'}\n",
    "for symbol in replace_dict:\n",
    "    biom_dropbox_link = biom_dropbox_link.replace(symbol,replace_dict[symbol])\n",
    "    unifrac_dropbox_link =  unifrac_dropbox_link.replace(symbol,replace_dict[symbol])\n",
    "\n",
    "biom_qzv_link = 'https://view.qiime2.org/visualization/?src=' + biom_dropbox_link\n",
    "unifrac_qzv_link = 'https://view.qiime2.org/visualization/?src=' + unifrac_dropbox_link"
   ]
  },
  {
   "cell_type": "markdown",
   "metadata": {},
   "source": [
    "<img style=\"float: center\" height=\"80%\" width=\"80%\" src=\"https://raw.githubusercontent.com/adswafford/American-Gut/master/md/img/cobranding-UCSD-CMI-black%401x.png\">\n",
    "\n",
    "<img style=\"float: right;background-color:black;margin:0px 100px 0px 0px\" height=\"40%\" width=\"40%\" src=\"https://raw.githubusercontent.com/adswafford/American-Gut/master/md/img/kl-logo2-532x300.png\">\n",
    "<img style=\"float: left;margin:30px 0px 0px 100px\" height=\"40%\" width=\"40%\" src=\"https://raw.githubusercontent.com/adswafford/American-Gut/master/md/img/ag_logo_tm.svg?sanitize=true\">  "
   ]
  },
  {
   "cell_type": "markdown",
   "metadata": {},
   "source": [
    "\n",
    "# Your Beyond Bacteria Report\n",
    "\n",
    "Thank you for your participation in the American Gut Project though the Beyond Bacteria Perk! We appreciate your patience while we transitioned the sample\n",
    "processing for this perk from our collaborators to our in-house team at UC San Diego.\n",
    "\n",
    "<span style=\"color:red;font-weight:bold\">DISCLAIMER: The following report is intended FOR RESEARCH USE ONLY and is not a diagnostic test of\n",
    "any kind. It should *NOT* be used to inform any clinical, medical, or otherwise health- or \n",
    "lifestyle-related decision-making, behavior, or activity. As scientists we do our best to\n",
    "vet our data, ensure data integrity and provide the latest and best tools and analyses\n",
    "available, but we do not provide any medical or clinical information or advice and no\n",
    "information on specific organisms found in the sample you provided is intended to be used\n",
    "for this purpose.</span>\n",
    "\n",
    "## Background Methods and Processing Information\n",
    "\n",
    "In the Knight Lab, part of the Center for Microbiome Innovation at UC San Diego, \n",
    "we extracted DNA from your sample using the Earth Microbiome Project (EMP) standardized\n",
    "protocol that was recently published in the November 2017 edition of [Nature](https://www.nature.com/articles/nature24621),\n",
    "and is available on the [EMP website](http://www.earthmicrobiome.org/protocols-and-standards/dna-extraction-protocol/) for easy reference. The extracted metgenomic DNA was then prepared for sequencing using our state-of-the-art shotgun library preparation\n",
    "and sequenced on a HiSeq4000.\n",
    "\n",
    "<img style=\"float: center\" height=\"50%\" width=\"50%\" src=\"https://raw.githubusercontent.com/adswafford/American-Gut/master/md/img/Shotgun_overview.png\">\n",
    "\n",
    "Following sequencing, your samples were processed using the [Oecophylla](https://github.com/biocore/oecophylla) a sequencing analysis pipeline under development in the Knight Lab, via our supercomputing cluster 'Barnacle', which is housed in the San Diego Supercomputer Center at UC San Diego and managed by Knight Lab systems administrators. The Barnacle cluster includes 1024 Intel Ivy-bridge compute cores as well as 384 AMD compute cores, 12TB of total Ram with a 10GbE compute network. Storage includes 250TB of primary storage with equal amounts of dedicated backup for the different file systems. Unlike the amplicon sequencing data we use for the standard kit processing for the AGP which only detects bacteria whose 16S rRNA gene matches the patterns we commonly look for, deeper shotgun metagenomic sequencing detects all genomic DNA in the sample regardless of the type of organism present. This means that we can pick up microbes other than bacteria. It also means we have a lot more data to sort through. Using our tremendous supercomputing power, we can go beyond the operational taxonomic units (OTUs) reported for our standard kit assessment to determine species and sometimes even strain-level identity for the microbes in your sample.\n",
    "\n",
    "If you would like to access your raw (.fastq) or processed (.biom) data, please contact us at info@americangut.org and we can provide you with instructions for accessing these large files. These data have had sequences removed that did not pass our quality control parameters, including those that matched to the human genome or our sequencing controls.\n",
    "\n",
    "In the Oecophylla pipeline, the sequencing reads are matched to phyla, genera, and species using the [Kraken\n",
    "database](https://ccb.jhu.edu/software/kraken/) and functional pathways are identified using [HUMANN2](http://huttenhower.sph.harvard.edu/humann2).\n",
    "\n",
    "\n",
    "## Results\n",
    "\n",
    "The vast majority of the organisms detected in your sample were bacterial. Indeed >99% of the organisms detected in your sample were bacterial with <1% of sequencing reads orginating with the other three domains: Archae, Viruses, and Eukaryota, which in this case are exclusively measured as fungi.\n"
   ]
  },
  {
   "cell_type": "code",
   "execution_count": null,
   "metadata": {},
   "outputs": [],
   "source": [
    "kingdom_url = host_dir + '/individual_reports/static_BB_plots/' + participant_id + '/' + participant_id + '_Kingdom.svg?sanitize=true'\n",
    "display(SVG(kingdom_url))"
   ]
  },
  {
   "cell_type": "markdown",
   "metadata": {},
   "source": [
    "## Bacteria\n",
    "\n",
    "Within the bacterial community, the organisms in your sample belonged primarily to a small number of phyla and genera, with some additional diversity seen at the species level. At baseline, each individual's microbiome consists primarily of the organisms best adapted to our diet, lifestyle, drug history and health conditions so samples tend to be dominated by just a small number of different types of bacteria."
   ]
  },
  {
   "cell_type": "code",
   "execution_count": null,
   "metadata": {},
   "outputs": [],
   "source": [
    "bacteria_phylum_url = host_dir + '/individual_reports/'+participant_id + '/static_plots/' + participant_id + '_Bacteria_Phylum.svg?sanitize=true'\n",
    "bacteria_genus_url = host_dir + '/individual_reports/'+participant_id + '/static_plots/' + participant_id + '_Bacteria_Genus.svg?sanitize=true'\n",
    "bacteria_species_url = host_dir + '/individual_reports/'+participant_id + '/static_plots/' + participant_id + '_Bacteria_Species.svg?sanitize=true'\n",
    "\n",
    "display(SVG(bacteria_phylum_url))\n",
    "display(SVG(bacteria_genus_url))\n",
    "display(SVG(bacteria_species_url))"
   ]
  },
  {
   "cell_type": "markdown",
   "metadata": {},
   "source": [
    "## Beyond Bacteria\n",
    "Since our metagenomic sequencing pipeline is able to capture organisms beyond bacteria we have highlighted the most commonly detected archaea, viruses and fungi, though overall these were in much lower abundance.\n",
    "\n",
    "<img style=\"float:  center\" height=\"50%\" width=\"50%\" src=\"https://media.nature.com/lw926/nature-assets/nmicrobiol/2016/nmicrobiol201648/images_hires/nmicrobiol201648-f1.jpg\">\n",
    "<div style=\"text-align: right\"><b>Hug L. et al. <i>Nature Microbiology</i> volume 1, Article number: 16048 (2016)</b></div>"
   ]
  },
  {
   "cell_type": "markdown",
   "metadata": {},
   "source": [
    "\n",
    "### Archaea\n",
    "\n",
    "Archaea are microorganisms of similar size and shape to bacteria, however they are molecularly and genetically distinct from bacteria and are as related to bacteria as we are. Most of the Archaea detected in your sample was unknown, though this is to be expected since these organisms are not yet well characterized:"
   ]
  },
  {
   "cell_type": "code",
   "execution_count": null,
   "metadata": {},
   "outputs": [],
   "source": [
    "archaea_phylum_url = host_dir + '/individual_reports/'+participant_id + '/static_plots/' + participant_id + '_Archaea_Phylum.svg?sanitize=true'\n",
    "archaea_genus_url = host_dir + '/individual_reports/'+participant_id + '/static_plots/' + participant_id + '_Archaea_Genus.svg?sanitize=true'\n",
    "archaea_species_url = host_dir + '/individual_reports/'+participant_id + '/static_plots/' + participant_id + '_Archaea_Species.svg?sanitize=true'\n",
    "\n",
    "display(SVG(archaea_phylum_url))\n",
    "display(SVG(archaea_genus_url))\n",
    "display(SVG(archaea_species_url))"
   ]
  },
  {
   "cell_type": "markdown",
   "metadata": {},
   "source": [
    "\n",
    "### Viruses\n",
    "\n",
    "Similarly, when compared to the bacteriome, relatively little is known about the rapidly evolving viruses that dwell on the boundary between life and abiotic existence. This is reflected in the large number of unassigned, putative viruses detected from their DNA:"
   ]
  },
  {
   "cell_type": "code",
   "execution_count": null,
   "metadata": {},
   "outputs": [],
   "source": [
    "#virus_family_url = host_dir + '/individual_reports/'+participant_id + '/static_plots/' + participant_id + '_Virus_Family.svg?sanitize=true'\n",
    "virus_genus_url = host_dir + '/individual_reports/'+participant_id + '/static_plots/' + participant_id + '_Viruses_Genus.svg?sanitize=true'\n",
    "virus_species_url = host_dir + '/individual_reports/'+participant_id + '/static_plots/' + participant_id + '_Viruses_Species.svg?sanitize=true'\n",
    "\n",
    "#display(SVG(virus_family_url))\n",
    "display(SVG(virus_genus_url))\n",
    "display(SVG(virus_species_url))"
   ]
  },
  {
   "cell_type": "markdown",
   "metadata": {},
   "source": [
    "\n",
    "### Fungi\n",
    "\n",
    "The fungal microbiome has been studied in detail primarily through model organisms, and the food we consume such as beer, wine and cheese, which often contain fungi (or in the case of mushrooms and truffles, are entirely fungal). We found a small amount of fungi in your stool sample and the top organisms are below:"
   ]
  },
  {
   "cell_type": "code",
   "execution_count": null,
   "metadata": {},
   "outputs": [],
   "source": [
    "fungi_phylum_url = host_dir + '/individual_reports/'+participant_id + '/static_plots/' + participant_id + '_Fungi_Phylum.svg?sanitize=true'\n",
    "fungi_genus_url = host_dir + '/individual_reports/'+participant_id + '/static_plots/' + participant_id + '_Fungi_Genus.svg?sanitize=true'\n",
    "fungi_species_url = host_dir + '/individual_reports/'+participant_id + '/static_plots/' + participant_id + '_Fungi_Species.svg?sanitize=true'\n",
    "\n",
    "display(SVG(fungi_phylum_url))\n",
    "display(SVG(fungi_genus_url))\n",
    "display(SVG(fungi_species_url))"
   ]
  },
  {
   "cell_type": "code",
   "execution_count": null,
   "metadata": {},
   "outputs": [],
   "source": [
    "md(\"You can explore all the organisms detected in your sample in the Qiime2 View below, by clicking on 'Feature Detail'. In this case each 'Feature' corresponds to a type of organism found in your sample. *Note: You can open this image in a new window [here](%s$).*\"%(biom_qzv_link))"
   ]
  },
  {
   "cell_type": "code",
   "execution_count": null,
   "metadata": {},
   "outputs": [],
   "source": [
    "biom_summary_iframe = '<iframe src=' + biom_qzv_link + ' width=100% height=800></iframe>'\n",
    "IPython.display.HTML(biom_summary_iframe)"
   ]
  },
  {
   "cell_type": "code",
   "execution_count": null,
   "metadata": {},
   "outputs": [],
   "source": [
    "md(\"The raw table of these values, viewable in Excel is [here](%s). For advanced users, you can access the [Qiime2 Artifact(.qza)](%s) or [BIOM(.biom)](%s$) files.\"%(host_dir + '/individual_reports/'+participant_id + '/raw/tsv/' + '_raw_counts.tsv',host_dir + '/individual_reports/'+participant_id + '/raw/qza/species_kraken_cpm/' + participant_id + '_kraken_comb_prof_table.qza',host_dir + '/individual_reports/'+participant_id + '/raw/biom/species_kraken_cpm/'+ participant_id +'_kraken_comb_prof.biom'))"
   ]
  },
  {
   "cell_type": "markdown",
   "metadata": {},
   "source": [
    "## Functional pathways\n",
    "\n",
    "Determining which pathways and processes are active in a sample is best determined using alternative methods, but looking at the gene pathways detected in the samples can provide us insight into the functional potential of the microbial community. Life is complex—from the smallest organism to the largest—and the microbes that live inside us have adapted to the unique environment of the human body. To do so, they rely on a large variety of functional pathways to keep growing, multiplying, helping, and sometimes harming us.\n",
    "\n",
    "The top 10 pathways detected in the provided stool sample are below, though these only make up a tiny portion of all the pathways detected in your sample."
   ]
  },
  {
   "cell_type": "code",
   "execution_count": null,
   "metadata": {},
   "outputs": [],
   "source": [
    "function_url = host_dir + '/individual_reports/'+participant_id + '/static_plots/' + participant_id + '_function.svg?sanitize=true'\n",
    "\n",
    "display(SVG(function_url))"
   ]
  },
  {
   "cell_type": "code",
   "execution_count": null,
   "metadata": {},
   "outputs": [],
   "source": [
    "md(\"The raw table of these values, viewable in Excel is [here](%s). For advanced users, you can access the [Qiime2 Artifact(.qza)](%s) or [BIOM(.biom)](%s) files.\"%(host_dir + '/individual_reports/'+participant_id + '/raw/tsv/'+ participant_id + '_pathway_counts.tsv',host_dir + '/individual_reports/'+participant_id + '/raw/qza/humann2_cpm/' + participant_id + '_humann2_cpm_table.qza',host_dir + '/individual_reports/'+participant_id + '/raw/biom/humann2_cpm/'+ participant_id +'_humann2_cpm.biom'))"
   ]
  },
  {
   "cell_type": "markdown",
   "metadata": {},
   "source": [
    "## Your Sample in Context\n",
    "\n",
    "Your sample was combined for analysis with a subset of AGP samples that were processed for deeper shotgun metagenomic sequencing.\n",
    "\n",
    "To visualize your sample in the context of these individuals, we have compressed all of the information about the composition of your sample into a single point and measured its similarity to the other individuals in a Principal Coordinates Analysis (PCoA) plot, just like the figures that you have likely seen Rob Knight present in his [TED talk](https://youtu.be/i-icXZ2tMRM?t=8m34s).\n",
    "\n",
    "In the plots below, your sample is represented by the enlarged diamond-shaped point. You can compare where your sample sits relative to a variety of other information by clicking on the 'Color' tab from the menu on the right side of the plot and changing the category from 'country' to any of the other survey categories."
   ]
  },
  {
   "cell_type": "code",
   "execution_count": null,
   "metadata": {},
   "outputs": [],
   "source": [
    "md(\"*Note: you may have to mouse over the image and zoom out depending on your monitor and browser size and settings. You can open this image in a new window [here](%s$).*\"%(unifrac_qzv_link))"
   ]
  },
  {
   "cell_type": "code",
   "execution_count": null,
   "metadata": {},
   "outputs": [],
   "source": [
    "unifrac_iframe = '<iframe src=' + unifrac_qzv_link + ' width=100% height=1000></iframe>'\n",
    "IPython.display.HTML(unifrac_iframe)"
   ]
  },
  {
   "cell_type": "markdown",
   "metadata": {},
   "source": [
    "\n",
    "## Conclusions\n",
    "\n",
    "No matter what you find in your gut, remember that these methods and techniques are on the cutting edge of research and will require years of validation and confirmation before we'll know how to interpret them to guide diets, lifestyles and healthcare decisions. While there are some emerging clinical trials that implement microbiome information, we would like to stress again that no clinical, medical, or otherwise health- or lifestyle-related decision-making, behavior, or activity is advised based on this data. Instead, as with any health matter that arises, if you find something of concern, we recommend you remember that this report is research-grade only and instead contact your local primary care provider to discuss your specific health conditions and options.\n",
    "\n",
    "Thank you again for your participation in the American Gut Project and we look forward to your feedback and continued support for this citizen-science led initiative."
   ]
  }
 ],
 "metadata": {
  "kernelspec": {
   "display_name": "Python 3",
   "language": "python",
   "name": "python3"
  },
  "language_info": {
   "codemirror_mode": {
    "name": "ipython",
    "version": 3
   },
   "file_extension": ".py",
   "mimetype": "text/x-python",
   "name": "python",
   "nbconvert_exporter": "python",
   "pygments_lexer": "ipython3",
   "version": "3.5.5"
  }
 },
 "nbformat": 4,
 "nbformat_minor": 2
}
